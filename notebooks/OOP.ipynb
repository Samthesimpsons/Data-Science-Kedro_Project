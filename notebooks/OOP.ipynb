{
 "cells": [
  {
   "cell_type": "markdown",
   "metadata": {},
   "source": [
    "# Understanding OOP in Python"
   ]
  },
  {
   "cell_type": "markdown",
   "metadata": {},
   "source": [
    "## Class vs Instance variables"
   ]
  },
  {
   "cell_type": "code",
   "execution_count": 1,
   "metadata": {},
   "outputs": [],
   "source": [
    "class Employee:\n",
    "\n",
    "    # these are class variables that will be common to all instances unless changed\n",
    "    num_of_employees = 0\n",
    "    raise_amount = 1.04\n",
    "\n",
    "    def __init__(self, first, last, pay):  # self is an instance of the Employee class\n",
    "        self.first = first  # these are called instance variable\n",
    "        self.last = last\n",
    "        self.email = first + '.' + last + '@email.com'\n",
    "        self.pay = pay\n",
    "\n",
    "        Employee.num_of_employees += 1\n",
    "\n",
    "    def fullname(self):\n",
    "        return '{} {}'.format(self.first, self.last)\n",
    "\n",
    "    def apply_raise(self):\n",
    "        self.pay = int(self.pay * self.raise_amount)\n",
    "\n",
    "\n",
    "emp_1 = Employee('Corey', 'Schafer', 10000)\n",
    "emp_2 = Employee('Test', 'Employee', 10000)\n"
   ]
  },
  {
   "cell_type": "code",
   "execution_count": 2,
   "metadata": {},
   "outputs": [
    {
     "name": "stdout",
     "output_type": "stream",
     "text": [
      "<bound method Employee.__init__ of <__main__.Employee object at 0x0000018BE9FD2920>>\n",
      "<bound method Employee.__init__ of <__main__.Employee object at 0x0000018BE9FD2BF0>>\n"
     ]
    }
   ],
   "source": [
    "# Note the different locations of the instances of Employee\n",
    "print(emp_1.__init__)\n",
    "print(emp_2.__init__)\n"
   ]
  },
  {
   "cell_type": "code",
   "execution_count": 3,
   "metadata": {},
   "outputs": [
    {
     "name": "stdout",
     "output_type": "stream",
     "text": [
      "{'first': 'Corey', 'last': 'Schafer', 'email': 'Corey.Schafer@email.com', 'pay': 10000}\n",
      "{'first': 'Test', 'last': 'Employee', 'email': 'Test.Employee@email.com', 'pay': 10000}\n",
      "{'__module__': '__main__', 'num_of_employees': 2, 'raise_amount': 1.04, '__init__': <function Employee.__init__ at 0x0000018BEAAEDA20>, 'fullname': <function Employee.fullname at 0x0000018BEAAEDC60>, 'apply_raise': <function Employee.apply_raise at 0x0000018BEAAEDCF0>, '__dict__': <attribute '__dict__' of 'Employee' objects>, '__weakref__': <attribute '__weakref__' of 'Employee' objects>, '__doc__': None}\n",
      "1.04\n",
      "{'first': 'Corey', 'last': 'Schafer', 'email': 'Corey.Schafer@email.com', 'pay': 10000, 'raise_amount': 1.05}\n",
      "1.05\n",
      "1.04\n",
      "1.04\n",
      "10500\n",
      "10400\n"
     ]
    }
   ],
   "source": [
    "# Note that the instances of Employee does not have the variable raise_amount as that is a class variable\n",
    "# unlike the class Employee\n",
    "print(emp_1.__dict__)\n",
    "print(emp_2.__dict__)\n",
    "print(Employee.__dict__)\n",
    "\n",
    "# However if we were to call the variable from the following instances, \n",
    "# it shows as it will always look up the instances variable before the class variable\n",
    "print(emp_1.raise_amount)\n",
    "\n",
    "# Remember for class variables: common to all instances unless changed\n",
    "# By using emp_1, we are setting emp_1's raise_amount to be 1.05 (previously not defined in the instance of emp_1)\n",
    "# As such, the employee class variable of raise_amount stays the same, so as all its other instances, emp_2.\n",
    "emp_1.raise_amount = 1.05\n",
    "print(emp_1.__dict__)\n",
    "print(emp_1.raise_amount)\n",
    "print(emp_2.raise_amount)\n",
    "print(Employee.raise_amount)\n",
    "\n",
    "# Why the above is important, is such that when we call apply_raise on emp_1, note that inside that function\n",
    "# we used self.raise_amount instead of Employee.raise_amount to ensure the function only applies the raise_amount of emp_1\n",
    "# this is also why in our __init__, we increment with Employee.num_of_employees += 1 and not self there is no above similar use case\n",
    "emp_1.apply_raise()\n",
    "emp_2.apply_raise()\n",
    "print(emp_1.pay)\n",
    "print(emp_2.pay)"
   ]
  },
  {
   "cell_type": "markdown",
   "metadata": {},
   "source": [
    "## Class methods and staticmethods"
   ]
  },
  {
   "cell_type": "markdown",
   "metadata": {},
   "source": [
    "### Class methods"
   ]
  },
  {
   "cell_type": "code",
   "execution_count": 4,
   "metadata": {},
   "outputs": [
    {
     "name": "stdout",
     "output_type": "stream",
     "text": [
      "1.04 1.04 1.04\n",
      "1.05 1.05 1.05\n"
     ]
    }
   ],
   "source": [
    "class Employee:\n",
    "\n",
    "    num_of_employees = 0\n",
    "    raise_amount = 1.04\n",
    "\n",
    "    def __init__(self, first, last, pay): \n",
    "        self.first = first  \n",
    "        self.last = last\n",
    "        self.email = first + '.' + last + '@email.com'\n",
    "        self.pay = pay\n",
    "\n",
    "        Employee.num_of_employees += 1\n",
    "\n",
    "    def fullname(self):  # fullname is called a regular method that automatically takes an instance as the 1st argument\n",
    "        return '{} {}'.format(self.first, self.last)\n",
    "\n",
    "    def apply_raise(self):\n",
    "        self.pay = int(self.pay * self.raise_amount)\n",
    "\n",
    "    # To use the class as the 1st argument by turning a regular method into a class method\n",
    "    @classmethod\n",
    "    def set_raise_amount(cls, new_amount):\n",
    "        cls.raise_amount = new_amount\n",
    "\n",
    "\n",
    "emp_1 = Employee('Corey', 'Schafer', 10000)\n",
    "emp_2 = Employee('Test', 'Employee', 10000)\n",
    "print(Employee.raise_amount, emp_1.raise_amount, emp_2.raise_amount)\n",
    "\n",
    "# Now I am going to run the class method\n",
    "Employee.set_raise_amount(1.05)\n",
    "print(Employee.raise_amount, emp_1.raise_amount, emp_2.raise_amount)"
   ]
  },
  {
   "cell_type": "markdown",
   "metadata": {},
   "source": [
    "### Using class methods as Alternative Constructors\n",
    "Using class methods to provide multiple ways of creating an object\n",
    "E.g. Using our employee class, where we have employee information in the form of a hyphenated string that needs to be cleaned before creating employee object instances."
   ]
  },
  {
   "cell_type": "code",
   "execution_count": 5,
   "metadata": {},
   "outputs": [
    {
     "name": "stdout",
     "output_type": "stream",
     "text": [
      "{'first': 'John', 'last': 'Doe', 'email': 'John.Doe@email.com', 'pay': '70000'}\n"
     ]
    }
   ],
   "source": [
    "class Employee:\n",
    "\n",
    "    num_of_emps = 0\n",
    "    raise_amt = 1.04\n",
    "\n",
    "    def __init__(self, first, last, pay):\n",
    "        self.first = first\n",
    "        self.last = last\n",
    "        self.email = first + '.' + last + '@email.com'\n",
    "        self.pay = pay\n",
    "\n",
    "        Employee.num_of_emps += 1\n",
    "\n",
    "    def fullname(self):\n",
    "        return '{} {}'.format(self.first, self.last)\n",
    "\n",
    "    def apply_raise(self):\n",
    "        self.pay = int(self.pay * self.raise_amt)\n",
    "\n",
    "    @classmethod\n",
    "    def set_raise_amt(cls, amount):\n",
    "        cls.raise_amt = amount\n",
    "\n",
    "    @classmethod\n",
    "    def from_string(cls, emp_str): # convention for alternative constructor to use from\n",
    "        first, last, pay = emp_str.split('-')\n",
    "        return cls(first, last, pay) # returns the created new employee object\n",
    "\n",
    "\n",
    "emp_str_1 = 'John-Doe-70000'\n",
    "emp_str_2 = 'Steve-Smith-30000'\n",
    "emp_str_3 = 'Jane-Doe-90000'\n",
    "\n",
    "emp_1 = Employee.from_string(emp_str_1)\n",
    "emp_2 = Employee.from_string(emp_str_2)\n",
    "emp_3 = Employee.from_string(emp_str_3)\n",
    "\n",
    "print(emp_1.__dict__)"
   ]
  },
  {
   "cell_type": "markdown",
   "metadata": {},
   "source": [
    "### Statics methods\n",
    "They behave by regular functions with logical connection with the class but does not pass the class or instance as the argument"
   ]
  },
  {
   "cell_type": "code",
   "execution_count": 6,
   "metadata": {},
   "outputs": [
    {
     "name": "stdout",
     "output_type": "stream",
     "text": [
      "True\n"
     ]
    }
   ],
   "source": [
    "import datetime\n",
    "class Employee:\n",
    "\n",
    "    num_of_emps = 0\n",
    "    raise_amt = 1.04\n",
    "\n",
    "    def __init__(self, first, last, pay):\n",
    "        self.first = first\n",
    "        self.last = last\n",
    "        self.email = first + '.' + last + '@email.com'\n",
    "        self.pay = pay\n",
    "\n",
    "        Employee.num_of_emps += 1\n",
    "\n",
    "    def fullname(self):\n",
    "        return '{} {}'.format(self.first, self.last)\n",
    "\n",
    "    def apply_raise(self):\n",
    "        self.pay = int(self.pay * self.raise_amt)\n",
    "\n",
    "    @classmethod\n",
    "    def set_raise_amt(cls, amount):\n",
    "        cls.raise_amt = amount\n",
    "\n",
    "    @classmethod\n",
    "    def from_string(cls, emp_str):\n",
    "        first, last, pay = emp_str.split('-')\n",
    "        return cls(first, last, pay)\n",
    "\n",
    "    @staticmethod\n",
    "    def is_workday(day): # does not access any class or instance variables\n",
    "        if day.weekday() == 5 or day.weekday() == 6: # python dates have a weekday methods\n",
    "            return False\n",
    "        return True\n",
    "\n",
    "\n",
    "prev_date = datetime.date(2016, 7, 11)\n",
    "print(Employee.is_workday(prev_date))"
   ]
  },
  {
   "cell_type": "markdown",
   "metadata": {},
   "source": [
    "## Inheritance"
   ]
  },
  {
   "cell_type": "code",
   "execution_count": 7,
   "metadata": {},
   "outputs": [
    {
     "name": "stdout",
     "output_type": "stream",
     "text": [
      "Help on class Contractor in module __main__:\n",
      "\n",
      "class Contractor(Employee)\n",
      " |  Contractor(first, last, pay)\n",
      " |  \n",
      " |  Method resolution order:\n",
      " |      Contractor\n",
      " |      Employee\n",
      " |      builtins.object\n",
      " |  \n",
      " |  Data and other attributes defined here:\n",
      " |  \n",
      " |  raise_amt = 1.03\n",
      " |  \n",
      " |  ----------------------------------------------------------------------\n",
      " |  Methods inherited from Employee:\n",
      " |  \n",
      " |  __init__(self, first, last, pay)\n",
      " |      Initialize self.  See help(type(self)) for accurate signature.\n",
      " |  \n",
      " |  apply_raise(self)\n",
      " |  \n",
      " |  fullname(self)\n",
      " |  \n",
      " |  ----------------------------------------------------------------------\n",
      " |  Data descriptors inherited from Employee:\n",
      " |  \n",
      " |  __dict__\n",
      " |      dictionary for instance variables (if defined)\n",
      " |  \n",
      " |  __weakref__\n",
      " |      list of weak references to the object (if defined)\n",
      "\n",
      "None\n",
      "10300\n",
      "10400\n"
     ]
    }
   ],
   "source": [
    "class Employee:\n",
    "\n",
    "    raise_amt = 1.04\n",
    "\n",
    "    def __init__(self, first, last, pay):\n",
    "        self.first = first\n",
    "        self.last = last\n",
    "        self.email = first + '.' + last + '@email.com'\n",
    "        self.pay = pay\n",
    "\n",
    "    def fullname(self):\n",
    "        return '{} {}'.format(self.first, self.last)\n",
    "\n",
    "    def apply_raise(self):\n",
    "        self.pay = int(self.pay * self.raise_amt)\n",
    "\n",
    "\n",
    "class Contractor(Employee):\n",
    "\n",
    "    raise_amt = 1.03\n",
    "\n",
    "\n",
    "# Look at the inheritance, builtins.object is the base class that all python object inherits\n",
    "print(help(Contractor))\n",
    "\n",
    "emp_1 = Employee('Corey', 'Schafer', 10000)\n",
    "ctr_1 = Contractor('Samuel', 'Sim', 10000)\n",
    "\n",
    "# Note the class variable, changing the sub-classes will not affect the parent class\n",
    "ctr_1.apply_raise()\n",
    "emp_1.apply_raise()\n",
    "\n",
    "print(ctr_1.pay)\n",
    "print(emp_1.pay)\n"
   ]
  },
  {
   "cell_type": "markdown",
   "metadata": {},
   "source": [
    "### Subclass Initiative"
   ]
  },
  {
   "cell_type": "code",
   "execution_count": 8,
   "metadata": {},
   "outputs": [
    {
     "name": "stdout",
     "output_type": "stream",
     "text": [
      "10000\n",
      "10000\n",
      "3\n"
     ]
    }
   ],
   "source": [
    "class Employee:\n",
    "\n",
    "    raise_amt = 1.04\n",
    "\n",
    "    def __init__(self, first, last, pay):\n",
    "        self.first = first\n",
    "        self.last = last\n",
    "        self.email = first + '.' + last + '@email.com'\n",
    "        self.pay = pay\n",
    "\n",
    "    def fullname(self):\n",
    "        return '{} {}'.format(self.first, self.last)\n",
    "\n",
    "    def apply_raise(self):\n",
    "        self.pay = int(self.pay * self.raise_amt)\n",
    "\n",
    "\n",
    "class Contractor(Employee):\n",
    "\n",
    "    raise_amt = 1.03\n",
    "\n",
    "    def __init__(self, first, last, pay, years):\n",
    "        # OR Employee.__init__(self, ...), to call the parent class init\n",
    "        super().__init__(first, last, pay)\n",
    "        self.shares = years # Add in another instance variable for director objects called shares\n",
    "\n",
    "emp_1 = Employee('Corey', 'Schafer', 10000)\n",
    "ctr_1 = Contractor('Samuel', 'Sim', 10000, 3)\n",
    "\n",
    "print(emp_1.pay)\n",
    "print(ctr_1.pay)\n",
    "print(ctr_1.shares)\n"
   ]
  },
  {
   "cell_type": "markdown",
   "metadata": {},
   "source": [
    "### Multiple Inheritances"
   ]
  },
  {
   "cell_type": "code",
   "execution_count": 9,
   "metadata": {},
   "outputs": [
    {
     "name": "stdout",
     "output_type": "stream",
     "text": [
      "Employee name: Corey Schafer\n",
      "----\n",
      "Employee name: Corey Schafer\n",
      "Employee name: Samuel Sim\n",
      "----\n",
      "Employee name: Samuel Sim\n",
      "----\n"
     ]
    }
   ],
   "source": [
    "class Employee:\n",
    "\n",
    "    raise_amt = 1.04\n",
    "\n",
    "    def __init__(self, first, last, pay):\n",
    "        self.first = first\n",
    "        self.last = last\n",
    "        self.email = first + '.' + last + '@email.com'\n",
    "        self.pay = pay\n",
    "\n",
    "    def fullname(self):\n",
    "        return '{} {}'.format(self.first, self.last)\n",
    "\n",
    "    def apply_raise(self):\n",
    "        self.pay = int(self.pay * self.raise_amt)\n",
    "\n",
    "\n",
    "class Contractor(Employee):\n",
    "\n",
    "    raise_amt = 1.03\n",
    "\n",
    "    def __init__(self, first, last, pay, years):\n",
    "        super().__init__(first, last, pay)\n",
    "        self.shares = years\n",
    "\n",
    "\n",
    "class Manager(Employee):\n",
    "\n",
    "    def __init__(self, first, last, pay, employees=None):\n",
    "        super().__init__(first, last, pay)\n",
    "        if employees is None:\n",
    "            self.employees = []\n",
    "        else:\n",
    "            self.employees = employees\n",
    "\n",
    "    def add_emp(self, emp):\n",
    "        if emp not in self.employees:\n",
    "            self.employees.append(emp)\n",
    "\n",
    "    def remove_emp(self, emp):\n",
    "        if emp in self.employees:\n",
    "            self.employees.remove(emp)\n",
    "\n",
    "    def print_emps(self):\n",
    "        for emp in self.employees:\n",
    "            print('Employee name:', emp.fullname())\n",
    "\n",
    "emp_1 = Employee('Corey', 'Schafer', 10000)\n",
    "mgr_1 = Manager('Sue', 'Smith', '90000', [emp_1])\n",
    "mgr_1.print_emps()\n",
    "print('----')\n",
    "\n",
    "ctr_1 = Employee('Samuel', 'Sim', 10000)\n",
    "mgr_1.add_emp(ctr_1)\n",
    "mgr_1.print_emps()\n",
    "print('----')\n",
    "\n",
    "mgr_1.remove_emp(emp_1)\n",
    "mgr_1.print_emps()\n",
    "print('----')"
   ]
  },
  {
   "cell_type": "markdown",
   "metadata": {},
   "source": [
    "### Useful built-in methods\n"
   ]
  },
  {
   "cell_type": "code",
   "execution_count": 10,
   "metadata": {},
   "outputs": [
    {
     "name": "stdout",
     "output_type": "stream",
     "text": [
      "True\n",
      "True\n",
      "False\n"
     ]
    }
   ],
   "source": [
    "print(isinstance(mgr_1, Manager))\n",
    "print(isinstance(mgr_1, Employee))\n",
    "print(isinstance(mgr_1, Contractor))"
   ]
  },
  {
   "cell_type": "code",
   "execution_count": 11,
   "metadata": {},
   "outputs": [
    {
     "name": "stdout",
     "output_type": "stream",
     "text": [
      "True\n",
      "True\n",
      "False\n"
     ]
    }
   ],
   "source": [
    "print(issubclass(Manager, Manager))\n",
    "print(issubclass(Manager, Employee))\n",
    "print(issubclass(Manager, Contractor))"
   ]
  },
  {
   "cell_type": "markdown",
   "metadata": {},
   "source": [
    "## Special Methods"
   ]
  },
  {
   "cell_type": "markdown",
   "metadata": {},
   "source": [
    "Allows us to emulate python built-in methods and implement operator overloading.\n",
    "Also called magic/dunder methods"
   ]
  },
  {
   "cell_type": "code",
   "execution_count": 12,
   "metadata": {},
   "outputs": [
    {
     "name": "stdout",
     "output_type": "stream",
     "text": [
      "Corey Schafer - Corey.Schafer@email.com\n",
      "Employee('Corey', 'Schafer', 50000)\n",
      "Employee('Corey', 'Schafer', 50000)\n",
      "Corey Schafer - Corey.Schafer@email.com\n",
      "Corey Schafer - Corey.Schafer@email.com\n"
     ]
    }
   ],
   "source": [
    "class Employee:\n",
    "\n",
    "    raise_amt = 1.04\n",
    "\n",
    "    def __init__(self, first, last, pay):\n",
    "        self.first = first\n",
    "        self.last = last\n",
    "        self.email = first + '.' + last + '@email.com'\n",
    "        self.pay = pay\n",
    "\n",
    "    def fullname(self):\n",
    "        return '{} {}'.format(self.first, self.last)\n",
    "\n",
    "    def apply_raise(self):\n",
    "        self.pay = int(self.pay * self.raise_amt)\n",
    "\n",
    "    def __repr__(self):\n",
    "        # Unambigious representation of the object, used for debugging & logging, and to be seen by developers\n",
    "        # Minimum to have, calling __str__ or print(obbject) without __str__ written will fall back to __repr__\n",
    "        # Good practise to return something that can be used to create an object instance\n",
    "        return \"Employee('{}', '{}', {})\".format(self.first, self.last, self.pay)\n",
    "\n",
    "    def __str__(self):\n",
    "        # Used as a readable representation of the object displayed to the end-user\n",
    "        return '{} - {}'.format(self.fullname(), self.email)\n",
    "\n",
    "\n",
    "emp_1 = Employee('Corey', 'Schafer', 50000)\n",
    "print(emp_1)\n",
    "print(repr(emp_1))\n",
    "print(emp_1.__repr__())\n",
    "print(str(emp_1))\n",
    "print(emp_1.__str__())"
   ]
  },
  {
   "cell_type": "markdown",
   "metadata": {},
   "source": [
    "### Understanding python special methods further\n",
    "https://docs.python.org/3/reference/datamodel.html#special-method-names"
   ]
  },
  {
   "cell_type": "code",
   "execution_count": 13,
   "metadata": {},
   "outputs": [
    {
     "name": "stdout",
     "output_type": "stream",
     "text": [
      "3\n",
      "ab\n",
      "6\n",
      "3\n",
      "ab\n",
      "6\n"
     ]
    }
   ],
   "source": [
    "print(1 + 2)\n",
    "print('a' + 'b')\n",
    "print(len('Samuel'))\n",
    "\n",
    "# In the background it is doing\n",
    "print(int.__add__(1, 2))\n",
    "print(str.__add__('a', 'b'))\n",
    "print(str.__len__('Samuel'))"
   ]
  },
  {
   "cell_type": "code",
   "execution_count": 14,
   "metadata": {},
   "outputs": [
    {
     "name": "stdout",
     "output_type": "stream",
     "text": [
      "100000\n",
      "13\n"
     ]
    }
   ],
   "source": [
    "class Employee:\n",
    "\n",
    "    raise_amt = 1.04\n",
    "\n",
    "    def __init__(self, first, last, pay):\n",
    "        self.first = first\n",
    "        self.last = last\n",
    "        self.email = first + '.' + last + '@email.com'\n",
    "        self.pay = pay\n",
    "\n",
    "    def fullname(self):\n",
    "        return '{} {}'.format(self.first, self.last)\n",
    "\n",
    "    def apply_raise(self):\n",
    "        self.pay = int(self.pay * self.raise_amt)\n",
    "\n",
    "    def __repr__(self):\n",
    "        return \"Employee('{}', '{}', {})\".format(self.first, self.last, self.pay)\n",
    "\n",
    "    def __str__(self):\n",
    "        return '{} - {}'.format(self.fullname(), self.email)\n",
    "\n",
    "    def __add__(self, other):\n",
    "        return self.pay + other.pay\n",
    "\n",
    "    def __len__(self):\n",
    "        return len(self.fullname())\n",
    "\n",
    "\n",
    "emp_1 = Employee('Corey', 'Schafer', 50000)\n",
    "emp_2 = Employee('Natalie', 'Tsang', 50000)\n",
    "\n",
    "print(emp_1 + emp_2)\n",
    "print(len(emp_1))"
   ]
  },
  {
   "cell_type": "markdown",
   "metadata": {},
   "source": [
    "## Property Decorators"
   ]
  },
  {
   "cell_type": "markdown",
   "metadata": {},
   "source": [
    "### Using @property"
   ]
  },
  {
   "cell_type": "code",
   "execution_count": 17,
   "metadata": {},
   "outputs": [
    {
     "name": "stdout",
     "output_type": "stream",
     "text": [
      "John Smith\n",
      "John.Smith@email.com\n",
      "-----\n",
      "Jim Smith\n",
      "John.Smith@email.com\n",
      "-----\n"
     ]
    }
   ],
   "source": [
    "class Employee:\n",
    "\n",
    "    raise_amt = 1.04\n",
    "\n",
    "    def __init__(self, first, last):\n",
    "        self.first = first\n",
    "        self.last = last\n",
    "        self.email = first + '.' + last + '@email.com'\n",
    "\n",
    "    def fullname(self):\n",
    "        return '{} {}'.format(self.first, self.last)\n",
    "\n",
    "emp_1 = Employee('John', 'Smith')\n",
    "\n",
    "print(emp_1.fullname())\n",
    "print(emp_1.email)\n",
    "print('-----')\n",
    "\n",
    "# What if there was an error, and a mistake in the first name\n",
    "# Note that the email was not updated as it was initiated upon the object creation, and only self.first gets updated\n",
    "emp_1.first = 'Jim'\n",
    "print(emp_1.fullname())\n",
    "print(emp_1.email)\n",
    "print('-----')"
   ]
  },
  {
   "cell_type": "code",
   "execution_count": 19,
   "metadata": {},
   "outputs": [
    {
     "name": "stdout",
     "output_type": "stream",
     "text": [
      "John Smith\n",
      "John.Smith@email.com\n"
     ]
    }
   ],
   "source": [
    "class Employee:\n",
    "\n",
    "    raise_amt = 1.04\n",
    "\n",
    "    def __init__(self, first, last):\n",
    "        self.first = first\n",
    "        self.last = last\n",
    "\n",
    "    def fullname(self):\n",
    "        return '{} {}'.format(self.first, self.last)\n",
    "\n",
    "    def email(self):\n",
    "        return '{}.{}@email.com'.format(self.first, self.last)\n",
    "\n",
    "emp_1 = Employee('John', 'Smith')\n",
    "\n",
    "# However note now to obtain the full names and email, we call functions\n",
    "print(emp_1.fullname())\n",
    "print(emp_1.email())"
   ]
  },
  {
   "cell_type": "code",
   "execution_count": 21,
   "metadata": {},
   "outputs": [
    {
     "name": "stdout",
     "output_type": "stream",
     "text": [
      "John\n",
      "John.Smith@email.com\n",
      "John Smith\n"
     ]
    }
   ],
   "source": [
    "class Employee:\n",
    "\n",
    "    def __init__(self, first, last):\n",
    "        self.first = first\n",
    "        self.last = last\n",
    "\n",
    "    # Use the property decorator to call them as attributes\n",
    "    @property\n",
    "    def email(self):\n",
    "        return '{}.{}@email.com'.format(self.first, self.last)\n",
    "\n",
    "    @property\n",
    "    def fullname(self):\n",
    "        return '{} {}'.format(self.first, self.last)\n",
    "\n",
    "emp_1 = Employee('John', 'Smith')\n",
    "\n",
    "print(emp_1.first)\n",
    "print(emp_1.email)\n",
    "print(emp_1.fullname)"
   ]
  },
  {
   "cell_type": "markdown",
   "metadata": {},
   "source": [
    "### Using setters and getters"
   ]
  },
  {
   "cell_type": "markdown",
   "metadata": {},
   "source": [
    "Note the error now if we try to set a new full name"
   ]
  },
  {
   "cell_type": "code",
   "execution_count": 24,
   "metadata": {},
   "outputs": [
    {
     "name": "stdout",
     "output_type": "stream",
     "text": [
      "Attribute error!\n"
     ]
    }
   ],
   "source": [
    "class Employee:\n",
    "\n",
    "    def __init__(self, first, last):\n",
    "        self.first = first\n",
    "        self.last = last\n",
    "\n",
    "    # Use the property decorator to call them as attributes\n",
    "    @property\n",
    "    def email(self):\n",
    "        return '{}.{}@email.com'.format(self.first, self.last)\n",
    "\n",
    "    @property\n",
    "    def fullname(self):\n",
    "        return '{} {}'.format(self.first, self.last)\n",
    "\n",
    "emp_1 = Employee('John', 'Smith')\n",
    "\n",
    "try:\n",
    "    emp_1.fullname = \"Corey Schafer\"\n",
    "except AttributeError:\n",
    "    print('Attribute error!')"
   ]
  },
  {
   "cell_type": "code",
   "execution_count": 25,
   "metadata": {},
   "outputs": [
    {
     "name": "stdout",
     "output_type": "stream",
     "text": [
      "Corey\n",
      "Corey.Schafer@email.com\n",
      "Corey Schafer\n"
     ]
    }
   ],
   "source": [
    "class Employee:\n",
    "\n",
    "    def __init__(self, first, last):\n",
    "        self.first = first\n",
    "        self.last = last\n",
    "\n",
    "    @property\n",
    "    def email(self):\n",
    "        return '{}.{}@email.com'.format(self.first, self.last)\n",
    "\n",
    "    @property\n",
    "    def fullname(self):\n",
    "        return '{} {}'.format(self.first, self.last)\n",
    "\n",
    "    @fullname.setter\n",
    "    def fullname(self, name): # In our e.g., name would be \"Corey Schafer\"\n",
    "        first, last = name.split(' ')\n",
    "        self.first = first\n",
    "        self.last = last\n",
    "\n",
    "\n",
    "emp_1 = Employee('John', 'Smith')\n",
    "emp_1.fullname = \"Corey Schafer\"\n",
    "\n",
    "print(emp_1.first)\n",
    "print(emp_1.email)\n",
    "print(emp_1.fullname)\n"
   ]
  },
  {
   "cell_type": "code",
   "execution_count": 28,
   "metadata": {},
   "outputs": [
    {
     "name": "stdout",
     "output_type": "stream",
     "text": [
      "Deleted Name!\n",
      "None\n",
      "None.None@email.com\n",
      "None None\n"
     ]
    }
   ],
   "source": [
    "class Employee:\n",
    "\n",
    "    def __init__(self, first, last):\n",
    "        self.first = first\n",
    "        self.last = last\n",
    "\n",
    "    @property\n",
    "    def email(self):\n",
    "        return '{}.{}@email.com'.format(self.first, self.last)\n",
    "\n",
    "    @property\n",
    "    def fullname(self):\n",
    "        return '{} {}'.format(self.first, self.last)\n",
    "\n",
    "    @fullname.setter\n",
    "    def fullname(self, name): # In our e.g., name would be \"Corey Schafer\"\n",
    "        first, last = name.split(' ')\n",
    "        self.first = first\n",
    "        self.last = last\n",
    "\n",
    "    @fullname.deleter\n",
    "    def fullname(self):\n",
    "        self.first = None\n",
    "        self.last = None\n",
    "        print('Deleted Name!')\n",
    "\n",
    "\n",
    "emp_1 = Employee('John', 'Smith')\n",
    "del emp_1.fullname\n",
    "\n",
    "print(emp_1.first)\n",
    "print(emp_1.email)\n",
    "print(emp_1.fullname)\n"
   ]
  }
 ],
 "metadata": {
  "kernelspec": {
   "display_name": "Python 3.10.4 ('data_science')",
   "language": "python",
   "name": "python3"
  },
  "language_info": {
   "codemirror_mode": {
    "name": "ipython",
    "version": 3
   },
   "file_extension": ".py",
   "mimetype": "text/x-python",
   "name": "python",
   "nbconvert_exporter": "python",
   "pygments_lexer": "ipython3",
   "version": "3.10.4"
  },
  "orig_nbformat": 4,
  "vscode": {
   "interpreter": {
    "hash": "ec18ae124fb7ff17ee29ebf19e741c06b30197736ff00dfba64476edf53b661f"
   }
  }
 },
 "nbformat": 4,
 "nbformat_minor": 2
}
