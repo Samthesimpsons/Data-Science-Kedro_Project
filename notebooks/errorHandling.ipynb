{
 "cells": [
  {
   "cell_type": "code",
   "execution_count": 1,
   "metadata": {},
   "outputs": [
    {
     "name": "stdout",
     "output_type": "stream",
     "text": [
      "First!\n",
      "Executing Finally...\n",
      "End of program\n"
     ]
    }
   ],
   "source": [
    "try:\n",
    "    f = open('curruptfile.txt')\n",
    "    # if f.name == 'currupt_file.txt':\n",
    "    #     raise Exception # manually raises the Exception\n",
    "except IOError as e:\n",
    "    print('IO Error!')\n",
    "except Exception as e:\n",
    "    print('General Exception Error!')\n",
    "else:\n",
    "    print(f.read())\n",
    "    f.close()\n",
    "finally:\n",
    "    print(\"Moving on...\")\n",
    "\n",
    "print('End of program')"
   ]
  },
  {
   "cell_type": "markdown",
   "metadata": {},
   "source": [
    "https://docs.python.org/3/library/exceptions.html"
   ]
  }
 ],
 "metadata": {
  "kernelspec": {
   "display_name": "Python 3.10.4 ('data_science')",
   "language": "python",
   "name": "python3"
  },
  "language_info": {
   "codemirror_mode": {
    "name": "ipython",
    "version": 3
   },
   "file_extension": ".py",
   "mimetype": "text/x-python",
   "name": "python",
   "nbconvert_exporter": "python",
   "pygments_lexer": "ipython3",
   "version": "3.10.4"
  },
  "orig_nbformat": 4,
  "vscode": {
   "interpreter": {
    "hash": "ec18ae124fb7ff17ee29ebf19e741c06b30197736ff00dfba64476edf53b661f"
   }
  }
 },
 "nbformat": 4,
 "nbformat_minor": 2
}
