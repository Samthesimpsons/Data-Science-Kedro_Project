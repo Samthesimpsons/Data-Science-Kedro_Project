{
 "cells": [
  {
   "cell_type": "code",
   "execution_count": null,
   "metadata": {},
   "outputs": [],
   "source": [
    "try:\n",
    "    f = open('curruptfile.txt')\n",
    "    # if f.name == 'currupt_file.txt':\n",
    "    #     raise Exception\n",
    "except IOError as e:\n",
    "    print('First!')\n",
    "except Exception as e:\n",
    "    print('Second')\n",
    "else:\n",
    "    print(f.read())\n",
    "    f.close()\n",
    "finally:\n",
    "    print(\"Executing Finally...\")\n",
    "\n",
    "print('End of program')"
   ]
  }
 ],
 "metadata": {
  "kernelspec": {
   "display_name": "Python 3.10.4 ('env': venv)",
   "language": "python",
   "name": "python3"
  },
  "language_info": {
   "name": "python",
   "version": "3.10.4"
  },
  "orig_nbformat": 4,
  "vscode": {
   "interpreter": {
    "hash": "01aaa151f12e7dd3e5635c5ed7d0c28760feb5e2c9be08a1ee36cf32bc84460c"
   }
  }
 },
 "nbformat": 4,
 "nbformat_minor": 2
}
